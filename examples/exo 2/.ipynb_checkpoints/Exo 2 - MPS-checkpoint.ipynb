{
 "cells": [
  {
   "cell_type": "code",
   "execution_count": 16,
   "id": "baeaaf30",
   "metadata": {},
   "outputs": [],
   "source": [
    "import numpy as np\n",
    "import matplotlib.pyplot as plt\n",
    "%matplotlib inline\n",
    "import sys\n",
    "import os\n",
    "import geone\n",
    "import geone.covModel as gcm\n",
    "import geone.deesseinterface as dsi\n",
    "import pyvista as pv\n",
    "\n",
    "sys.path.append(\"../../../../\")\n",
    "import ArchPy\n",
    "from ArchPy.base import Unit, Pile, Prop, Facies, Surface"
   ]
  },
  {
   "cell_type": "code",
   "execution_count": 4,
   "id": "cd6f4148",
   "metadata": {},
   "outputs": [],
   "source": [
    "TI = geone.img.readImageGslib(\"MPS_data/ti3DC.gslib\")"
   ]
  },
  {
   "cell_type": "code",
   "execution_count": 5,
   "id": "83d767e4",
   "metadata": {},
   "outputs": [
    {
     "data": {
      "application/vnd.jupyter.widget-view+json": {
       "model_id": "db0c285a6657483c841ceee6c320ea08",
       "version_major": 2,
       "version_minor": 0
      },
      "text/plain": [
       "ViewInteractiveWidget(height=768, layout=Layout(height='auto', width='100%'), width=1024)"
      ]
     },
     "metadata": {},
     "output_type": "display_data"
    }
   ],
   "source": [
    "geone.imgplot3d.drawImage3D_surface(TI)"
   ]
  },
  {
   "cell_type": "code",
   "execution_count": 7,
   "id": "2effd51f",
   "metadata": {},
   "outputs": [],
   "source": [
    "ref = geone.img.readImageGslib(\"MPS_data/im3DRef.gslib\")"
   ]
  },
  {
   "cell_type": "code",
   "execution_count": 8,
   "id": "80255523",
   "metadata": {},
   "outputs": [
    {
     "data": {
      "application/vnd.jupyter.widget-view+json": {
       "model_id": "e4c6cd0a91414aec89dab36d346c7d97",
       "version_major": 2,
       "version_minor": 0
      },
      "text/plain": [
       "ViewInteractiveWidget(height=768, layout=Layout(height='auto', width='100%'), width=1024)"
      ]
     },
     "metadata": {},
     "output_type": "display_data"
    }
   ],
   "source": [
    "geone.imgplot3d.drawImage3D_surface(ref)"
   ]
  },
  {
   "cell_type": "code",
   "execution_count": 9,
   "id": "21b52d58",
   "metadata": {},
   "outputs": [],
   "source": [
    "# grid\n",
    "\n",
    "sx = 1\n",
    "sy = 1\n",
    "sz = 0.15\n",
    "x0 = 0\n",
    "y0 = 0\n",
    "z0 = -15\n",
    "nx = 50\n",
    "ny = 200\n",
    "nz = 100\n",
    "\n",
    "dimensions = (nx, ny, nz)\n",
    "spacing = (sx, sy, sz)\n",
    "origin = (x0, y0, z0)  "
   ]
  },
  {
   "cell_type": "code",
   "execution_count": 18,
   "id": "649a4ef5",
   "metadata": {},
   "outputs": [
    {
     "name": "stdout",
     "output_type": "stream",
     "text": [
      "Unit D: Surface added for interpolation\n",
      "Unit C: TI added\n",
      "Unit C: Surface added for interpolation\n",
      "Unit B: TI added\n",
      "Unit B: Surface added for interpolation\n",
      "Unit A: Surface added for interpolation\n"
     ]
    }
   ],
   "source": [
    "## Surfaces covmodel\n",
    "covmodelD = gcm.CovModel2D(elem=[('cubic', {'w':100, 'r':[100, 100]})])\n",
    "covmodelC = gcm.CovModel2D(elem=[('cubic', {'w':100, 'r':[100, 100]})])\n",
    "covmodelB = gcm.CovModel2D(elem=[('cubic', {'w':100, 'r':[100, 100]})])\n",
    "covmodelA = gcm.CovModel2D(elem=[('spherical', {'w':200, 'r':[100, 100]})])\n",
    "\n",
    "\n",
    "#create Units \n",
    "\n",
    "# Unit D\n",
    "dic_s_D = {\"int_method\" : \"grf_ineq\",\"covmodel\" : covmodelD}\n",
    "dic_f_D = {\"f_method\" : \"homogenous\"}  # DeeSse parameters\n",
    "D = Unit(name=\"D\",order=1, ID = 1, color=\"gold\", contact=\"onlap\",\n",
    "         surface=Surface(contact=\"onlap\",dic_surf=dic_s_D) ,dic_facies=dic_f_D)\n",
    "\n",
    "# Unit C\n",
    "dic_s_C = {\"int_method\" : \"grf_ineq\",\"covmodel\" : covmodelC}\n",
    "dic_f_C = {\"f_method\" : \"MPS\", \"TI\":TI, \"xr\":1, \"yr\":1, \"zr\":1, \"maxscan\":0.1, \"thresh\":0.1,\n",
    "           \"rot_usage\":1,\n",
    "           \"rotAzi\":\"inference\", \"rotAziLoc\":True, \"azi_top\":90, \"azi_bot\":\"gradient\",  # azimuth\n",
    "           \"rotDip\":\"inference\", \"rotDipLoc\":True, \"dip_top\":45, \"dip_bot\":\"gradient\",  # dip\n",
    "           \"neig\":15}  # DeeSse parameters\n",
    "C = Unit(name=\"C\",order=2, ID = 2, color=\"midnightblue\", contact=\"onlap\",\n",
    "         dic_facies=dic_f_C, surface=Surface(dic_surf=dic_s_C,contact=\"erode\"))\n",
    "\n",
    "# Unit B\n",
    "dic_s_B = {\"int_method\" : \"grf_ineq\",\"covmodel\" : covmodelB}\n",
    "dic_f_B = {\"f_method\" : \"MPS\", \"TI\":TI, \"xr\":1, \"yr\":1, \"zr\":1, \"maxscan\":0.1, \"thresh\":0.1,\n",
    "           \"rot_usage\":1,\n",
    "           \"rotAzi\":\"inference\", \"rotAziLoc\":True, \"azi_top\":90, \"azi_bot\":\"gradient\",  # azimuth\n",
    "           \"rotDip\":\"inference\", \"rotDipLoc\":True, \"dip_top\":45, \"dip_bot\":\"gradient\",  # dip\n",
    "           \"neig\":15}  # DeeSse parameters\n",
    "B = Unit(name=\"B\",order=3, ID = 3, color=\"green\",contact=\"onlap\",dic_facies=dic_f_B,surface=Surface(contact=\"erode\",dic_surf=dic_s_B))\n",
    "\n",
    "# Unit A\n",
    "dic_s_A = {\"int_method\":\"grf_ineq\",\"covmodel\" : covmodelA}\n",
    "dic_f_A = {\"f_method\" : \"homogenous\"} \n",
    "A = Unit(name=\"A\",order=5, ID = 4, color=\"lightcoral\",contact=\"onlap\",dic_facies=dic_f_A,surface=Surface(dic_surf = dic_s_A,contact=\"onlap\"))\n"
   ]
  },
  {
   "cell_type": "code",
   "execution_count": 19,
   "id": "b6bd8bca",
   "metadata": {},
   "outputs": [
    {
     "name": "stdout",
     "output_type": "stream",
     "text": [
      "Stratigraphic unit D added\n",
      "Stratigraphic unit C added\n",
      "Stratigraphic unit B added\n",
      "Stratigraphic unit A added\n"
     ]
    }
   ],
   "source": [
    "#Master pile\n",
    "P1 = Pile(\"P1\")\n",
    "P1.add_unit([D,C,B,A])"
   ]
  },
  {
   "cell_type": "code",
   "execution_count": null,
   "id": "8934d68c",
   "metadata": {},
   "outputs": [],
   "source": []
  },
  {
   "cell_type": "code",
   "execution_count": null,
   "id": "862fc55a",
   "metadata": {},
   "outputs": [],
   "source": []
  },
  {
   "cell_type": "code",
   "execution_count": null,
   "id": "8c44fddc",
   "metadata": {},
   "outputs": [],
   "source": []
  },
  {
   "cell_type": "code",
   "execution_count": null,
   "id": "f925d0a4",
   "metadata": {},
   "outputs": [],
   "source": []
  },
  {
   "cell_type": "code",
   "execution_count": null,
   "id": "28984948",
   "metadata": {},
   "outputs": [],
   "source": []
  }
 ],
 "metadata": {
  "kernelspec": {
   "display_name": "Python 3 (ipykernel)",
   "language": "python",
   "name": "python3"
  },
  "language_info": {
   "codemirror_mode": {
    "name": "ipython",
    "version": 3
   },
   "file_extension": ".py",
   "mimetype": "text/x-python",
   "name": "python",
   "nbconvert_exporter": "python",
   "pygments_lexer": "ipython3",
   "version": "3.7.15"
  }
 },
 "nbformat": 4,
 "nbformat_minor": 5
}
