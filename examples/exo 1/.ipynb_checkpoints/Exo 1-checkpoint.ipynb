{
 "cells": [
  {
   "cell_type": "markdown",
   "id": "64475bcf",
   "metadata": {},
   "source": [
    "# Exercice 1 - Simple 2D model\n",
    "\n",
    "This first exercise will present the basic capabilities of ArchPy (how to define the stratigraphic pile, how to import boreholes and how to visualize the data and models"
   ]
  },
  {
   "cell_type": "code",
   "execution_count": 1,
   "id": "787a42f1",
   "metadata": {},
   "outputs": [],
   "source": [
    "import numpy as np\n",
    "import matplotlib.pyplot as plt\n",
    "%matplotlib inline\n",
    "import sys\n",
    "import os\n",
    "import geone\n",
    "import geone.covModel as gcm\n",
    "import pyvista as pv\n",
    "import ArchPy"
   ]
  },
  {
   "cell_type": "markdown",
   "id": "36c1ca6e",
   "metadata": {},
   "source": [
    "## Building the model\n",
    "\n",
    "Let's see step by step how to build an ArchPy model."
   ]
  },
  {
   "cell_type": "markdown",
   "id": "768d06ae",
   "metadata": {},
   "source": [
    "### Arch table object\n",
    "\n",
    "The very first step is to instantiate an Arch_table object. This is the main object of ArchPy that contains all the useful functions (preprocessing, computing, plotting, etc.). It can be seen as the project.\n",
    "\n",
    "The syntax is pretty simple: ``ArchPy.base.Arch_table(name = ..., seed = ..., verbose = ...)``.\n",
    "\n",
    "- ``name`` corresponds to the project name and will be used as an identifier\n",
    "- ``seed`` is the seed for the reproducibility of the stochastic events\n",
    "- ``verbose`` is the level of information that will be printed by ArchPy, 0 for quasi-None and 1 for everything."
   ]
  },
  {
   "cell_type": "code",
   "execution_count": null,
   "id": "d961d2eb",
   "metadata": {},
   "outputs": [],
   "source": [
    "T1 = ..."
   ]
  },
  {
   "cell_type": "markdown",
   "id": "e6a4f72c",
   "metadata": {},
   "source": [
    "### Grid\n",
    "\n",
    "Next we can define a simulation grid. In ArchPy, grids are simple regular cartesian grids and only required three inputs:\n",
    "- ``dimensions`` (nx, ny, nz), the number of cells in three directions\n",
    "- ``spacing`` (sx, sy, sz), the size of the cells in each directions\n",
    "- ``origin`` (x0, y0, z0), the origin of the grid\n",
    "\n",
    "For this exercise, let us a define a 2D slice grid of nx = 200 and nz = 100 with a spacing of sx = 0.5 and sz = 0.15. The origin is x0 = 0, y0 = 0 and z0 = -15.\n",
    "\n",
    "The grid can be added to the arch table with the ``add_grid()`` method."
   ]
  },
  {
   "cell_type": "code",
   "execution_count": null,
   "id": "c97f91cc",
   "metadata": {},
   "outputs": [],
   "source": [
    "# grid\n",
    "\n",
    "sx = ...\n",
    "sy = ...\n",
    "sz = ...\n",
    "x0 = ...\n",
    "y0 = ...\n",
    "z0 = ...\n",
    "nx = ...\n",
    "ny = ...\n",
    "nz = ...\n",
    "\n",
    "dimensions = (nx, ny, nz)\n",
    "spacing = (sx, sy, sz)\n",
    "origin = (x0, y0, z0)  \n",
    "\n",
    "## add grid to the arch table\n",
    "..."
   ]
  },
  {
   "cell_type": "markdown",
   "id": "cf36e97e",
   "metadata": {},
   "source": [
    "### Units and surfaces\n",
    "\n",
    "Let us now create three stratigraphic units: C, B and A (C is above B which is above A). \n",
    "\n",
    "This is done with the classes ArchPy.base.Unit and ArchPy.base.Surface\n",
    "\n",
    "**For each unit, a surface must be defined.** This surface delimits the top of the unit.\n",
    "\n",
    "A surface is caracterized by : \n",
    "- contact type (onlap or erode), which influences how it interacts with other surfaces - Surface dictionnary (dic_surf) wich includes all parameters and method interpolations\n",
    "- int_method : interpolation method --> grf, grf_ineq, MPS, kriging, ... \n",
    "- covmodel : covariance model to use if int_method is grf, grf_ineq, kriging\n",
    "- mean : mean elevation of the surface\n",
    "- etc.\n",
    "\n",
    "A unit is caracterized by : \n",
    "- a name\n",
    "- an order that defines the unit position in the pile, ranging from 1 (youngest unit) to n (oldest unit).\n",
    "- a surface object\n",
    "- Unit dictionnary (dic_facies), more info below ! "
   ]
  },
  {
   "cell_type": "code",
   "execution_count": null,
   "id": "f977e472",
   "metadata": {},
   "outputs": [],
   "source": [
    "# units\n",
    "#units covmodel\n",
    "covmodelB = gcm.CovModel2D(elem=[('cubic', {'w':.5, 'r':[40, 40]})]) \n",
    "covmodelA = gcm.CovModel2D(elem=[('cubic', {'w':7, 'r':[30, 30]})])\n",
    "\n",
    "\n",
    "# create Units \n",
    "\n",
    "# C unit as example\n",
    "surf_C = ArchPy.base.Surface(contact = \"onlap\")\n",
    "C = ArchPy.base.Unit(name = \"C\", order = 1, ID = 1, color = \"lightblue\",\n",
    "                     surface = surf_C)\n",
    "\n",
    "\n",
    "# Do not forget to add the covmodels to surface of B and A !\n",
    "\n",
    "dic_s_B = {\"int_method\" : ... ,\"covmodel\" : ...}\n",
    "surf_B = ...  # create a surface object\n",
    "B = ArchPy.base.Unit(name = ..., order = ..., ID = ..., color=\"gold\",\n",
    "                     surface = ...)\n",
    "\n",
    "\n",
    "dic_s_A = ...\n",
    "surf_A = ...  \n",
    "A = ..."
   ]
  },
  {
   "cell_type": "markdown",
   "id": "f27a3cdc",
   "metadata": {},
   "source": [
    "### Pile\n",
    "\n",
    "Finally, the units are added to a Pile object with the ``add_unit`` method of the Pile."
   ]
  },
  {
   "cell_type": "code",
   "execution_count": null,
   "id": "b3ac9e2e",
   "metadata": {},
   "outputs": [],
   "source": [
    "P1 = ...  # create a pile object\n",
    "...  # add units\n",
    "\n",
    "T1.set_Pile_master(P1)# define the main pile"
   ]
  },
  {
   "cell_type": "markdown",
   "id": "f72b9eca",
   "metadata": {},
   "source": [
    "### Boreholes\n",
    "\n",
    "Let's see now how to import boreholes into the model.\n",
    "\n",
    "For this ArchPy requires three different data text files.: a list of borholes, a list of unit data and a list of facies data.\n",
    "\n",
    "They can have any extensions but the recommended are :\n",
    "\n",
    "list of boreholes -> .lbh\n",
    "\n",
    "list of unit data -> .ud\n",
    "\n",
    "list of facies data -> .fd\n",
    "\n",
    "For this example, the files are in the 2_data_folder.\n",
    "\n",
    "Let's detail these files :\n",
    "- .lbh : text file with five columns listing all the boreholes in the data. It has five columns and default headers are :\n",
    "    - bh_ID : borehole identifier to know at which borehole a unit/facies data belongs\n",
    "    - bh_x : x borehole coordinate\n",
    "    - bh_y : y borehole coordinate\n",
    "    - bh_z : z borehole coordinate\n",
    "    - bh_depth : borehole depth\n",
    "\n",
    "\n",
    "- .ud : text file with four columns listing all the stratigraphical unit interval data. Default headers are :\n",
    "     - bh_ID : borehole identifier to know at whcih borehole the unit data belongs\n",
    "     - Strat : Unit identifier to know at which unit this unit interval data belongs\n",
    "     - top : top elevation of the interval\n",
    "     - bot : bot elevation of the interval\n",
    "    \n",
    "        \n",
    "- .fd : text file with four columns listing all the facies interval data. Default headers are :\n",
    "     - bh_ID : borehole identifier to know at whcih borehole the unit data belongs\n",
    "     - facies_ID : facies identifier to know at which facies this facies interval data belongs\n",
    "     - top : top elevation of the interval\n",
    "     - bot : bot elevation of the interval\n"
   ]
  },
  {
   "cell_type": "markdown",
   "id": "21de06f7",
   "metadata": {},
   "source": [
    "First --> we have to import these files with pandas "
   ]
  },
  {
   "cell_type": "code",
   "execution_count": null,
   "id": "ffc3320a",
   "metadata": {},
   "outputs": [],
   "source": [
    "import pandas as pd\n",
    "\n",
    "list_bhs = ...  # import list of boreholes file\n",
    "unit_data = ...  # import unit data file\n",
    "facies_data = ...  # import facies data file"
   ]
  },
  {
   "cell_type": "markdown",
   "id": "77e62e7a",
   "metadata": {},
   "source": [
    "We can now import the boreholes with the following functions. I'm not going into the details but the first one create a uniform and clean geological base from the unit and facies data file. And the second create the borehole object for ArchPy.\n",
    "\n",
    "\n",
    "Note that We don't import the facies information here (``extract_facies = False``)."
   ]
  },
  {
   "cell_type": "code",
   "execution_count": null,
   "id": "a8802154",
   "metadata": {},
   "outputs": [],
   "source": [
    "db, lbhs = ArchPy.inputs.load_bh_files(list_bhs, facies_data, unit_data)\n",
    "boreholes = ArchPy.inputs.extract_bhs(db, lbhs, T1, extract_facies=False, vb=1)"
   ]
  },
  {
   "cell_type": "markdown",
   "id": "e4c573f2",
   "metadata": {},
   "source": [
    "Let us add these boreholes to the table with ``add_bh()`` method"
   ]
  },
  {
   "cell_type": "code",
   "execution_count": null,
   "id": "f0a87896",
   "metadata": {},
   "outputs": [],
   "source": [
    "..."
   ]
  },
  {
   "cell_type": "markdown",
   "id": "07c10f32",
   "metadata": {},
   "source": [
    "We can see the boreholes with ``plot_bhs()`` method"
   ]
  },
  {
   "cell_type": "code",
   "execution_count": null,
   "id": "e6088e6b",
   "metadata": {},
   "outputs": [],
   "source": [
    "T1.plot_bhs()"
   ]
  },
  {
   "cell_type": "markdown",
   "id": "bcfb2605",
   "metadata": {},
   "source": [
    "We still need to process these boreholes, i.e. extract the information for the simulations. fortunately, this is done automatically by archpy by simply using the ``process_bhs()`` method !"
   ]
  },
  {
   "cell_type": "code",
   "execution_count": null,
   "id": "35d6c028",
   "metadata": {},
   "outputs": [],
   "source": [
    "T1.process_bhs()"
   ]
  },
  {
   "cell_type": "markdown",
   "id": "e6fdbc73",
   "metadata": {},
   "source": [
    "### Simulations\n",
    "\n",
    "with the following command:\n",
    "\n",
    "- ``compute_surf(nreal)``\n",
    "\n",
    "Let's consider a total of 10 unit realizations (nreal = 10)"
   ]
  },
  {
   "cell_type": "code",
   "execution_count": null,
   "id": "28a24cb0",
   "metadata": {
    "scrolled": true
   },
   "outputs": [],
   "source": [
    "T1.compute_surf(...)"
   ]
  },
  {
   "cell_type": "code",
   "execution_count": null,
   "id": "ad7948c5",
   "metadata": {},
   "outputs": [],
   "source": [
    "## plots\n",
    "\n",
    "plt.figure(figsize=(10, 6), dpi=200)\n",
    "for i in range(6):\n",
    "    \n",
    "    plt.subplot(3, 2, i+1)\n",
    "    plt.imshow(T1.get_units_domains_realizations(i, fill=\"color\")[:, 0], origin=\"lower\", aspect=.5)\n",
    "    plt.title(\"Realization {}\".format(i))\n",
    "    "
   ]
  },
  {
   "cell_type": "markdown",
   "id": "1c5b0224",
   "metadata": {},
   "source": [
    "## Testing with erode\n",
    "\n",
    "This is nice but we can now test different options of ArchPy, for example the choice between onlap and erode of the surface. What happens if we modify the top surface of B to ``erode`` ?\n"
   ]
  },
  {
   "cell_type": "code",
   "execution_count": null,
   "id": "ef323d42",
   "metadata": {},
   "outputs": [],
   "source": [
    "## modify the contact of the surface of B\n"
   ]
  },
  {
   "cell_type": "code",
   "execution_count": null,
   "id": "fe552b33",
   "metadata": {},
   "outputs": [],
   "source": [
    "# reprocess the boreholes  --> pile has changed\n",
    "T1.bhs_processed = 0  # this line reset the flag that indicate that the boreholes are processed\n",
    "T1.process_bhs()"
   ]
  },
  {
   "cell_type": "code",
   "execution_count": null,
   "id": "faab3c5b",
   "metadata": {
    "scrolled": true
   },
   "outputs": [],
   "source": [
    "# re run simulations\n",
    "T1.compute_surf(50)\n",
    "\n",
    "# plots\n",
    "plt.figure(figsize=(10, 6), dpi=200)\n",
    "for i in range(6):\n",
    "    \n",
    "    plt.subplot(3, 2, i+1)\n",
    "    plt.imshow(T1.get_units_domains_realizations(i, fill=\"color\")[:, 0], origin=\"lower\", aspect=.5)\n",
    "    plt.title(\"Realization {}\".format(i))\n"
   ]
  },
  {
   "cell_type": "code",
   "execution_count": null,
   "id": "f9e6d283",
   "metadata": {},
   "outputs": [],
   "source": [
    "# 3D plot with boreholes\n",
    "p = pv.Plotter()  # create a pyvista plotter...\n",
    "\n",
    "T1.plot_units(0, plotter=p)  # put plotter in archpy plotting function...\n",
    "T1.plot_bhs(plotter=p)  # put plotter in archpy plotting function...\n",
    "\n",
    "p.show()  # ... and display !"
   ]
  },
  {
   "cell_type": "markdown",
   "id": "2dcd1d0b",
   "metadata": {},
   "source": [
    "ArchPy also offers some functionnalities to deal with uncertainties and probabilities.\n",
    "\n",
    "Try the ``plot_proba()`` method"
   ]
  },
  {
   "cell_type": "code",
   "execution_count": null,
   "id": "7b7655aa",
   "metadata": {},
   "outputs": [],
   "source": [
    "# plot probability\n",
    "..."
   ]
  },
  {
   "cell_type": "markdown",
   "id": "8228bd32",
   "metadata": {},
   "source": [
    "## Facies\n",
    "\n",
    "Facies are easily integrated with ``ArchPy.base.Facies``. A facies can then be passed to the unit with the add_facies method. Warning, this method is an \"adding\" method it does not remove previously added facies. They should be remove manually wiht the following code : unit.list_facies = [].\n",
    "\n",
    "As a remainder, C unit is uniformly composed of silts, B unit is composed of sand and gravel and A of silts and clay."
   ]
  },
  {
   "cell_type": "code",
   "execution_count": null,
   "id": "e7e9c106",
   "metadata": {},
   "outputs": [],
   "source": [
    "# Create facies\n",
    "sand = ...\n",
    "...\n",
    "\n",
    "# add facies\n",
    "..."
   ]
  },
  {
   "cell_type": "markdown",
   "id": "9e8c7026",
   "metadata": {},
   "source": [
    "### Modify pile\n",
    "\n",
    "Now, we have to modify the pile to indicate to ArchPy how to simulate these facies. We will use simple Sequential Indicator Simulations (**SIS**) in this exemple. SIS is on of the most simple geostatistical methods when it comes to facies modeling as it does not require many inputs. Indeed, it requires at least one covariance model for each unit. \n",
    "For simplicity of the example, these are given below (covmodel_SIS_A and covmodel_SIS_B). They represent the spatial variability of the facies that will be simulated.\n",
    "\n",
    "Each facies methods have specific modeling parameters that are given to ArchPy by the use of a dictionnary (dic_facies). This dictionnary can have multiple entries such as:\n",
    "   - f_method : filling method (SIS, MPS, homogenous, SubPile or TPGs) \n",
    "   - f_covmodel : facies covmodels to use with the SIS\n",
    "   - probability : facies proportions, in the same order than the facies passed to the Unit.\n",
    "   - (see ArchPy documentation for all the parameters)\n",
    "  \n",
    " \n",
    "Create these dictionnaries and add them to the corresponding units. There is no need to consider the proportions for this exercise."
   ]
  },
  {
   "cell_type": "code",
   "execution_count": null,
   "id": "a86d1047",
   "metadata": {},
   "outputs": [],
   "source": [
    "# covariance models\n",
    "covmodel_SIS_A = gcm.CovModel3D(elem = [(\"exponential\", {\"w\":.25,\"r\":[70, 70, 5]})], alpha=0, name=\"vario_SIS\") # input variogram\n",
    "covmodel_SIS_B = gcm.CovModel3D(elem = [(\"exponential\", {\"w\":.25,\"r\":[50, 50, 5]})], alpha=0, name=\"vario_SIS\") # input variogram\n",
    "\n",
    "dic_f_B = ...\n",
    "dic_f_A = ...\n",
    "\n",
    "# set dictionnaries\n",
    "B.set_dic_facies(dic_f_B)\n",
    "A.set_dic_facies(dic_f_A)"
   ]
  },
  {
   "cell_type": "markdown",
   "id": "37184301",
   "metadata": {},
   "source": [
    "### Re-add boreholes with facies this time\n",
    "\n",
    "We need to reimport the boreholes with the facies information this time !"
   ]
  },
  {
   "cell_type": "code",
   "execution_count": null,
   "id": "b7431485",
   "metadata": {},
   "outputs": [],
   "source": [
    "T1.rem_all_bhs()  # remove all boreholes"
   ]
  },
  {
   "cell_type": "code",
   "execution_count": null,
   "id": "8db2cb57",
   "metadata": {},
   "outputs": [],
   "source": [
    "boreholes = ArchPy.inputs.extract_bhs(db, lbhs, T1, extract_facies=True, vb=1)  # extract boreholes from database\n",
    "T1.add_bh(boreholes)"
   ]
  },
  {
   "cell_type": "markdown",
   "id": "2c71f3e1",
   "metadata": {},
   "source": [
    "### Reprocess and Rerun\n",
    "\n",
    "Let's run again the simulations. This time 5 unit realizations and 3 facies realizations.\n",
    "\n",
    "``T1.compute_facies(nreal)``"
   ]
  },
  {
   "cell_type": "code",
   "execution_count": null,
   "id": "2689de6b",
   "metadata": {},
   "outputs": [],
   "source": [
    "T1.process_bhs()  # process again because there is new boreholes\n",
    "\n",
    "# simulations\n",
    "..."
   ]
  },
  {
   "cell_type": "code",
   "execution_count": null,
   "id": "f24f08e2",
   "metadata": {},
   "outputs": [],
   "source": [
    "# plot\n",
    "plt.figure(figsize=(5, 5.5), dpi=150)\n",
    "for iu in range(2):\n",
    "    for ifa in range(3):\n",
    "    \n",
    "        plt.subplot(3, 2, iu*3+ifa+1)\n",
    "        plt.imshow(T1.get_facies(iu, ifa, all_data=False)[:, 0], origin=\"lower\")\n",
    "        plt.title(\"un {} / fa {}\".format(iu, ifa))"
   ]
  },
  {
   "cell_type": "code",
   "execution_count": null,
   "id": "25349ba8",
   "metadata": {},
   "outputs": [],
   "source": [
    "p = pv.Plotter()\n",
    "\n",
    "T1.plot_facies(0, 1, plotter=p)\n",
    "T1.plot_bhs(\"facies\", plotter=p)\n",
    "p.show()"
   ]
  },
  {
   "cell_type": "markdown",
   "id": "4ded214b",
   "metadata": {},
   "source": [
    "## Property\n",
    "\n",
    "Let's now add a phyiscal property: *log Hydraulic conductivity*. For recall, we assume a mean value of -3.5 for sand, -2 for gravel, -8 for clay and -6.5 for silt. \n",
    "\n",
    "We will create a property object with ``ArchPy.base.Prop``.\n",
    "\n",
    "Important: Property objects are directly added to the project and not to the facies.\n",
    "\n",
    "Arguments are : \n",
    "- name \n",
    "- facies (list, the facies in which to simulate the prop)\n",
    "- covmodels (list, covariance models for the simulation, one for each facies, same order of facies) \n",
    "- means (list, mean values for the simulation, one for each facies)\n",
    "- int_method (list, grf method --> SGS or FFT), which method to use to interpolate.\n",
    "- x (position of the hard data, if any)\n",
    "- v (values of the hard data, if any)\n",
    "- def_mean (default value to use if a facies have not been added to the \"facies\" arguments\n",
    "- vmin, vmax (min and max values for the properties, simulated values below (resp. above) will be capped.\n",
    "\n",
    "In this example one property is defined for the four facies, each with a different covariance models given in list_covmodels, a list of 3D covmodels objects (see geone doc.). The order of the covmodels must be consistant with the order of the facies in list_facies. The same applies for the means parameter.\n",
    "\n",
    "Finally the property is added to the project with the method ``Arch_table.add_project()``"
   ]
  },
  {
   "cell_type": "code",
   "execution_count": null,
   "id": "0b273e14",
   "metadata": {},
   "outputs": [],
   "source": [
    "# covmodels for the property model\n",
    "covmodelK = gcm.CovModel3D(elem=[(\"exponential\",{\"w\":0.3,\"r\":[5,5,1]})], name=\"K_vario\")\n",
    "\n",
    "K = ArchPy.base.Prop(name = ...,\n",
    "                     facies = [..., ..., ..., ...],\n",
    "                     covmodels = [..., ..., ..., ...],\n",
    "                     means = [..., ..., ..., ...],\n",
    "                     int_method = [..., ..., ..., ...])\n",
    "\n",
    "# add prop to table\n"
   ]
  },
  {
   "cell_type": "markdown",
   "id": "f2b7d4f6",
   "metadata": {},
   "source": [
    "And run simulations !\n",
    "\n",
    "Set ``nreal = 2`` to start with"
   ]
  },
  {
   "cell_type": "code",
   "execution_count": null,
   "id": "eb49ee2b",
   "metadata": {
    "scrolled": true
   },
   "outputs": [],
   "source": [
    "T1.compute_prop(2)"
   ]
  },
  {
   "cell_type": "code",
   "execution_count": null,
   "id": "aada674d",
   "metadata": {},
   "outputs": [],
   "source": [
    "# Plots\n",
    "\n",
    "plt.figure(figsize=(5, 7), dpi=150)\n",
    "o = 1\n",
    "for iu in range(2):\n",
    "    for ifa in range(3):\n",
    "        for ip in range(1):\n",
    "            \n",
    "            plt.subplot(4, 2, o)\n",
    "            plt.imshow(T1.getprop(\"K\", iu, ifa, ip, all_data=False)[:, 0], origin=\"lower\")\n",
    "            plt.title(\"un {} / fa {} / pr {}\".format(iu, ifa, ip))\n",
    "            \n",
    "            o += 1\n",
    "            "
   ]
  },
  {
   "cell_type": "code",
   "execution_count": null,
   "id": "26fed5f5",
   "metadata": {},
   "outputs": [],
   "source": [
    "#plot 3D\n",
    "T1.plot_prop(\"K\")"
   ]
  },
  {
   "cell_type": "code",
   "execution_count": null,
   "id": "1338f6d1",
   "metadata": {},
   "outputs": [],
   "source": [
    "# plot the mean\n",
    "T1.plot_mean_prop(\"K\")"
   ]
  }
 ],
 "metadata": {
  "kernelspec": {
   "display_name": "Python 3 (ipykernel)",
   "language": "python",
   "name": "python3"
  },
  "language_info": {
   "codemirror_mode": {
    "name": "ipython",
    "version": 3
   },
   "file_extension": ".py",
   "mimetype": "text/x-python",
   "name": "python",
   "nbconvert_exporter": "python",
   "pygments_lexer": "ipython3",
   "version": "3.11.3"
  }
 },
 "nbformat": 4,
 "nbformat_minor": 5
}
