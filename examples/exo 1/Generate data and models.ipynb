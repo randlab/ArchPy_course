{
 "cells": [
  {
   "cell_type": "code",
   "execution_count": 150,
   "id": "8df1cae8",
   "metadata": {},
   "outputs": [],
   "source": [
    "import numpy as np\n",
    "import matplotlib.pyplot as plt\n",
    "import sys\n",
    "import os\n",
    "import geone\n",
    "import geone.covModel as gcm\n",
    "import shutil\n",
    "\n",
    "sys.path.append(\"../../../../\")\n",
    "import ArchPy"
   ]
  },
  {
   "cell_type": "markdown",
   "id": "0cbab4a0",
   "metadata": {},
   "source": [
    "## Exo 1"
   ]
  },
  {
   "cell_type": "code",
   "execution_count": 151,
   "id": "4dfb8b88",
   "metadata": {},
   "outputs": [
    {
     "name": "stdout",
     "output_type": "stream",
     "text": [
      "Unit C: Surface added for interpolation\n",
      "Unit B: covmodel for SIS added\n",
      "Unit B: Surface added for interpolation\n",
      "Unit A: covmodel for SIS added\n",
      "Unit A: Surface added for interpolation\n",
      "Stratigraphic unit C added\n",
      "Stratigraphic unit B added\n",
      "Stratigraphic unit A added\n"
     ]
    }
   ],
   "source": [
    "# exo 1\n",
    "\n",
    "#grid\n",
    "sx = 0.5\n",
    "sy = 1\n",
    "sz = 0.15\n",
    "x0 = 0\n",
    "y0 = 0\n",
    "z0 = -15\n",
    "nx = 200\n",
    "ny = 1\n",
    "nz = 100\n",
    "\n",
    "dimensions = (nx, ny, nz)\n",
    "spacing = (sx, sy, sz)\n",
    "origin = (x0, y0, z0)  \n",
    "\n",
    "\n",
    "# units\n",
    "#units covmodel\n",
    "covmodelB = gcm.CovModel2D(elem=[('cubic', {'w':.5, 'r':[40, 40]})])\n",
    "covmodelA = gcm.CovModel2D(elem=[('cubic', {'w':8, 'r':[30, 30]})])\n",
    "\n",
    "## facies covmodel\n",
    "covmodel_SIS_A = gcm.CovModel3D(elem = [(\"exponential\", {\"w\":.25,\"r\":[20, 20, 2]})], alpha=0, name=\"vario_SIS\") # input variogram\n",
    "covmodel_SIS_B = gcm.CovModel3D(elem = [(\"exponential\", {\"w\":.25,\"r\":[20, 20, 2]})], alpha=0, name=\"vario_SIS\") # input variogram\n",
    "\n",
    "\n",
    "#create Lithologies \n",
    "C = ArchPy.base.Unit(name = \"C\", order = 1, ID = 1, color = \"lightblue\", contact = \"onlap\",\n",
    "                     surface = ArchPy.base.Surface(contact = \"onlap\"))\n",
    "\n",
    "\n",
    "dic_s_B = {\"int_method\" : \"grf_ineq\",\"covmodel\" : covmodelB, \"mean\" : -5}\n",
    "dic_f_B = {\"f_method\" : \"SIS\", \"neig\" : 20, \"f_covmodel\":covmodel_SIS_B}\n",
    "B = ArchPy.base.Unit(name = \"B\", order = 2, ID = 2, color=\"gold\", contact = \"onlap\",\n",
    "                     surface = ArchPy.base.Surface(contact = \"erode\", dic_surf = dic_s_B),\n",
    "                     dic_facies = dic_f_B)\n",
    "\n",
    "\n",
    "dic_s_A = {\"int_method\" : \"grf_ineq\",\"covmodel\" : covmodelA, \"mean\":-9}\n",
    "dic_f_A = {\"f_method\" : \"SIS\",\"neig\" : 20, \"f_covmodel\" : covmodel_SIS_A}\n",
    "A = ArchPy.base.Unit(name=\"A\", order = 3,ID = 3, color=\"blue\", contact = \"onlap\",\n",
    "                     surface = ArchPy.base.Surface(dic_surf=dic_s_A, contact=\"erode\"),\n",
    "                     dic_facies = dic_f_A)\n",
    "\n",
    "P1 = ArchPy.base.Pile(\"P1\")\n",
    "P1.add_unit([C, B, A])"
   ]
  },
  {
   "cell_type": "code",
   "execution_count": 152,
   "id": "6cc55d6d",
   "metadata": {},
   "outputs": [
    {
     "name": "stdout",
     "output_type": "stream",
     "text": [
      "Facies Silt added to unit C\n",
      "Facies Sand added to unit B\n",
      "Facies Gravel added to unit B\n",
      "Facies Silt added to unit A\n",
      "Facies Clay added to unit A\n"
     ]
    }
   ],
   "source": [
    "# covmodels for the property model\n",
    "covmodelK = gcm.CovModel3D(elem=[(\"exponential\",{\"w\":0.3,\"r\":[5,5,1]})],alpha=-20,name=\"K_vario\")\n",
    "covmodelK2 = gcm.CovModel3D(elem=[(\"spherical\",{\"w\":0.1,\"r\":[3,3,1]})],alpha=0,name=\"K_vario_2\")\n",
    "covmodelPoro = gcm.CovModel3D(elem=[(\"exponential\",{\"w\":0.005,\"r\":[10,10,10]})],alpha=0,name=\"poro_vario\")\n",
    "\n",
    "sand = ArchPy.base.Facies(ID = 1,name=\"Sand\",color=\"yellow\")\n",
    "gravel = ArchPy.base.Facies(ID = 2,name=\"Gravel\",color=\"lightgreen\")\n",
    "clay = ArchPy.base.Facies(ID = 4,name=\"Clay\",color=\"blue\")\n",
    "silt = ArchPy.base.Facies(ID = 6,name=\"Silt\",color=\"goldenrod\")\n",
    "\n",
    "C.add_facies([silt])\n",
    "B.add_facies([sand, gravel])\n",
    "A.add_facies([silt, clay])\n",
    "\n",
    "permea = ArchPy.base.Prop(\"K\",[sand, gravel, clay, silt],\n",
    "                  [covmodelK2, covmodelK, covmodelK, covmodelK2],\n",
    "                  means=[-3.5,-2,-8,-6.5],\n",
    "                  int_method = [\"sgs\",\"sgs\",\"sgs\",\"sgs\"],\n",
    "                  def_mean=-5)"
   ]
  },
  {
   "cell_type": "code",
   "execution_count": 153,
   "id": "4d6676de",
   "metadata": {},
   "outputs": [
    {
     "name": "stdout",
     "output_type": "stream",
     "text": [
      "Pile sets as Pile master\n",
      "## Adding Grid ##\n",
      "## Grid added and is now simulation grid ##\n",
      "boreholes removed\n",
      "Property K added\n"
     ]
    }
   ],
   "source": [
    "T1 = ArchPy.base.Arch_table(name = \"exo1\",seed= 4)\n",
    "T1.set_Pile_master(P1)\n",
    "T1.add_grid(dimensions, spacing, origin)\n",
    "T1.rem_all_bhs()\n",
    "T1.add_prop([permea])"
   ]
  },
  {
   "cell_type": "code",
   "execution_count": 154,
   "id": "ee2565ce",
   "metadata": {},
   "outputs": [],
   "source": [
    "import copy\n",
    "T1_copy = copy.deepcopy(T1)"
   ]
  },
  {
   "cell_type": "code",
   "execution_count": 155,
   "id": "8182f31f",
   "metadata": {},
   "outputs": [
    {
     "name": "stdout",
     "output_type": "stream",
     "text": [
      "##### ORDERING UNITS ##### \n",
      "Pile P1: ordering units\n",
      "Stratigraphic units have been sorted according to order\n",
      "hierarchical relations set\n",
      "No borehole found - no hd extracted\n"
     ]
    }
   ],
   "source": [
    "T1.process_bhs()"
   ]
  },
  {
   "cell_type": "code",
   "execution_count": 156,
   "id": "1ae3eb8b",
   "metadata": {},
   "outputs": [
    {
     "name": "stdout",
     "output_type": "stream",
     "text": [
      "Boreholes not processed, fully unconditional simulations will be tempted\n",
      "########## PILE P1 ##########\n",
      "Pile P1: ordering units\n",
      "Stratigraphic units have been sorted according to order\n",
      "\n",
      "#### COMPUTING SURFACE OF UNIT A\n",
      "A: time elapsed for computing surface 0.005003929138183594 s\n",
      "\n",
      "#### COMPUTING SURFACE OF UNIT B\n",
      "B: time elapsed for computing surface 0.00900888442993164 s\n",
      "\n",
      "#### COMPUTING SURFACE OF UNIT C\n",
      "C: time elapsed for computing surface 0.0 s\n",
      "\n",
      "Time elapsed for getting domains 0.0010013580322265625 s\n",
      "##########################\n",
      "\n",
      "\n",
      "### 0.016015052795410156: Total time elapsed for computing surfaces ###\n",
      "\n",
      "### Unit C: facies simulation with homogenous method ####\n",
      "### Unit C - realization 0 ###\n",
      "Time elapsed 0.0 s\n",
      "\n",
      "### Unit B: facies simulation with SIS method ####\n",
      "### Unit B - realization 0 ###\n",
      "Only one facies covmodels for multiples facies, adapt sill to right proportions\n",
      "Time elapsed 0.02 s\n",
      "\n",
      "### Unit A: facies simulation with SIS method ####\n",
      "### Unit A - realization 0 ###\n",
      "Only one facies covmodels for multiples facies, adapt sill to right proportions\n",
      "Time elapsed 0.05 s\n",
      "\n",
      "### 0.07: Total time elapsed for computing facies ###\n",
      "### 1 K property models will be modeled ###\n",
      "### 1 K models done\n"
     ]
    },
    {
     "name": "stderr",
     "output_type": "stream",
     "text": [
      "C:\\Users\\emmal\\switchdrive\\phenix\\notebooks\\examples\\Exos Phenix\\exo 1\\../../../..\\ArchPy\\base.py:6695: RuntimeWarning: invalid value encountered in long_scalars\n",
      "  p=np.sum(facies == fa.ID)/len(facies == fa.ID) #calculate proportion of facies\n"
     ]
    }
   ],
   "source": [
    "T1.compute_surf(1)\n",
    "T1.compute_facies()\n",
    "T1.compute_prop()"
   ]
  },
  {
   "cell_type": "code",
   "execution_count": 157,
   "id": "38509d1d",
   "metadata": {},
   "outputs": [],
   "source": [
    "np.random.seed(54)\n",
    "\n",
    "nbh = 5\n",
    "posx = np.random.random(size=nbh) * T1.xg[-1]\n",
    "posy = np.ones([nbh]) * 0.5\n",
    "boreholes = T1.make_fake_bh(posx, posy)[0][0]"
   ]
  },
  {
   "cell_type": "code",
   "execution_count": 158,
   "id": "0ebc4cea",
   "metadata": {},
   "outputs": [],
   "source": [
    "ID = 1\n",
    "\n",
    "for i in boreholes:\n",
    "    \n",
    "    i.ID = ID\n",
    "    ID += 1"
   ]
  },
  {
   "cell_type": "code",
   "execution_count": 159,
   "id": "ab4b2a3e",
   "metadata": {},
   "outputs": [
    {
     "name": "stdout",
     "output_type": "stream",
     "text": [
      "Borehole 1 goes below model limits, borehole 1 depth cut\n",
      "Borehole 1 added\n",
      "Borehole 2 goes below model limits, borehole 2 depth cut\n",
      "Borehole 2 added\n",
      "Borehole 3 goes below model limits, borehole 3 depth cut\n",
      "Borehole 3 added\n",
      "Borehole 4 goes below model limits, borehole 4 depth cut\n",
      "Borehole 4 added\n",
      "Borehole 5 goes below model limits, borehole 5 depth cut\n",
      "Borehole 5 added\n"
     ]
    }
   ],
   "source": [
    "T1_copy.add_bh(boreholes)"
   ]
  },
  {
   "cell_type": "code",
   "execution_count": 160,
   "id": "1961ed43",
   "metadata": {},
   "outputs": [
    {
     "name": "stdout",
     "output_type": "stream",
     "text": [
      "##### ORDERING UNITS ##### \n",
      "Pile P1: ordering units\n",
      "Stratigraphic units have been sorted according to order\n",
      "hierarchical relations set\n",
      "\n",
      " ## Computing distributions for Normal Score Transform ##\n",
      "\n",
      "Processing ended successfully\n"
     ]
    }
   ],
   "source": [
    "T1_copy.process_bhs()"
   ]
  },
  {
   "cell_type": "code",
   "execution_count": 161,
   "id": "6f0b3f06",
   "metadata": {},
   "outputs": [
    {
     "data": {
      "application/vnd.jupyter.widget-view+json": {
       "model_id": "689a42f4cb364c0db547918f026c2b68",
       "version_major": 2,
       "version_minor": 0
      },
      "text/plain": [
       "ViewInteractiveWidget(height=768, layout=Layout(height='auto', width='100%'), width=1024)"
      ]
     },
     "metadata": {},
     "output_type": "display_data"
    }
   ],
   "source": [
    "T1_copy.plot_bhs(\"facies\")"
   ]
  },
  {
   "cell_type": "code",
   "execution_count": 162,
   "id": "0650a2e3",
   "metadata": {},
   "outputs": [
    {
     "data": {
      "application/vnd.jupyter.widget-view+json": {
       "model_id": "6b0520fae6b14b85a77114996f39fce4",
       "version_major": 2,
       "version_minor": 0
      },
      "text/plain": [
       "ViewInteractiveWidget(height=768, layout=Layout(height='auto', width='100%'), width=1024)"
      ]
     },
     "metadata": {},
     "output_type": "display_data"
    }
   ],
   "source": [
    "T1.plot_facies()"
   ]
  },
  {
   "cell_type": "code",
   "execution_count": 163,
   "id": "73e980ef",
   "metadata": {},
   "outputs": [
    {
     "data": {
      "text/plain": [
       "('exo1.lbh', 'exo1.ud', 'exo1.fd')"
      ]
     },
     "execution_count": 163,
     "metadata": {},
     "output_type": "execute_result"
    }
   ],
   "source": [
    "ArchPy.inputs.write_bh_files(T1_copy)"
   ]
  },
  {
   "cell_type": "code",
   "execution_count": 164,
   "id": "e556bd78",
   "metadata": {},
   "outputs": [],
   "source": [
    "\n",
    "for file in os.listdir(T1_copy.ws):\n",
    "    shutil.copyfile(os.path.join(T1_copy.ws, file), os.path.join(\"data\", file))\n",
    "    os.remove(os.path.join(T1_copy.ws, file))"
   ]
  },
  {
   "cell_type": "code",
   "execution_count": 165,
   "id": "71b003af",
   "metadata": {},
   "outputs": [
    {
     "data": {
      "text/plain": [
       "[]"
      ]
     },
     "execution_count": 165,
     "metadata": {},
     "output_type": "execute_result"
    }
   ],
   "source": [
    "os.listdir(\"ArchPy_workspace\")"
   ]
  }
 ],
 "metadata": {
  "kernelspec": {
   "display_name": "Python 3 (ipykernel)",
   "language": "python",
   "name": "python3"
  },
  "language_info": {
   "codemirror_mode": {
    "name": "ipython",
    "version": 3
   },
   "file_extension": ".py",
   "mimetype": "text/x-python",
   "name": "python",
   "nbconvert_exporter": "python",
   "pygments_lexer": "ipython3",
   "version": "3.10.9"
  }
 },
 "nbformat": 4,
 "nbformat_minor": 5
}
